{
 "cells": [
  {
   "cell_type": "markdown",
   "id": "9a83006b",
   "metadata": {},
   "source": [
    "# Exercise 1"
   ]
  },
  {
   "cell_type": "code",
   "execution_count": null,
   "id": "df59feaa",
   "metadata": {},
   "outputs": [],
   "source": [
    "my_list = [1, 2, 2, 4, 4, 5, 6, 8, 10, 13, 22, 35, 52, 83]"
   ]
  },
  {
   "cell_type": "code",
   "execution_count": 4,
   "id": "9da44636",
   "metadata": {},
   "outputs": [
    {
     "name": "stdout",
     "output_type": "stream",
     "text": [
      "10\n",
      "13\n",
      "22\n",
      "35\n",
      "52\n",
      "83\n"
     ]
    }
   ],
   "source": [
    "#Write a program that prints out all the elements of the list that are higher than or equal to 10.\n",
    "\n",
    "for x in my_list:\n",
    "    \n",
    "    if x>=10:\n",
    "    \n",
    "        print(x)"
   ]
  },
  {
   "cell_type": "code",
   "execution_count": 5,
   "id": "50b0c303",
   "metadata": {},
   "outputs": [
    {
     "name": "stdout",
     "output_type": "stream",
     "text": [
      "[10, 13, 22, 35, 52, 83]\n"
     ]
    }
   ],
   "source": [
    "#Instead of printing the elements one by one, make a new list that has all the elements higher than or equal to 10 from this list in it and print out this new list.\n",
    "\n",
    "print([x for x in my_list if x>=10])"
   ]
  },
  {
   "cell_type": "code",
   "execution_count": 8,
   "id": "09c92024",
   "metadata": {},
   "outputs": [
    {
     "name": "stdout",
     "output_type": "stream",
     "text": [
      "Write a number50\n",
      "[52, 83]\n"
     ]
    }
   ],
   "source": [
    "#Ask the user for a number as input and print a list that contains only those elements from my_list that are higher than the number given by the user.\n",
    "\n",
    "number = input(\"Write a number\")\n",
    "print([x for x in my_list if x>=int(number)])"
   ]
  },
  {
   "cell_type": "markdown",
   "id": "58dc2c06",
   "metadata": {},
   "source": [
    "# Exercise 2"
   ]
  },
  {
   "cell_type": "code",
   "execution_count": 9,
   "id": "ec5b0ac2",
   "metadata": {},
   "outputs": [],
   "source": [
    "employee = {\n",
    "  \"name\": \"Tim\",\n",
    "  \"age\": 30,\n",
    "  \"birthday\": \"1990-03-10\",\n",
    "  \"job\": \"DevOps Engineer\"\n",
    "}"
   ]
  },
  {
   "cell_type": "code",
   "execution_count": null,
   "id": "3dd781a3",
   "metadata": {},
   "outputs": [],
   "source": [
    "#Write a Python Script that:\n",
    "\n",
    "#Updates the job to Software Engineer\n",
    "#Removes the age key from the dictionary\n",
    "#Loops through the dictionary and prints the key:value pairs one by one"
   ]
  },
  {
   "cell_type": "code",
   "execution_count": 10,
   "id": "58dabd21",
   "metadata": {},
   "outputs": [],
   "source": [
    "employee[\"job\"] = \"Software Engineer\""
   ]
  },
  {
   "cell_type": "code",
   "execution_count": 11,
   "id": "e8a8e093",
   "metadata": {},
   "outputs": [],
   "source": [
    "del employee[\"age\"]"
   ]
  },
  {
   "cell_type": "code",
   "execution_count": 12,
   "id": "434871aa",
   "metadata": {},
   "outputs": [
    {
     "name": "stdout",
     "output_type": "stream",
     "text": [
      "name Tim\n",
      "birthday 1990-03-10\n",
      "job Software engineer\n"
     ]
    }
   ],
   "source": [
    "for key in employee:\n",
    "    \n",
    "    print(key, employee[key])"
   ]
  },
  {
   "cell_type": "code",
   "execution_count": 22,
   "id": "e74b0a86",
   "metadata": {},
   "outputs": [],
   "source": [
    "dict_one = {'a': 100, 'b': 400}\n",
    "dict_two = {'x': 300, 'y': 200}"
   ]
  },
  {
   "cell_type": "code",
   "execution_count": 23,
   "id": "df1223d9",
   "metadata": {},
   "outputs": [],
   "source": [
    "#Write a Python Script that:\n",
    "\n",
    "#Merges these two Python dictionaries into 1 new dictionary.\n",
    "#Sums up all the values in the new dictionary and prints it out\n",
    "#Prints the max and minimum values of the dictionary"
   ]
  },
  {
   "cell_type": "code",
   "execution_count": 24,
   "id": "b88cea68",
   "metadata": {},
   "outputs": [],
   "source": [
    "dict_one.update(dict_two)"
   ]
  },
  {
   "cell_type": "code",
   "execution_count": 30,
   "id": "61fde8f1",
   "metadata": {},
   "outputs": [
    {
     "name": "stdout",
     "output_type": "stream",
     "text": [
      "1000\n"
     ]
    }
   ],
   "source": [
    "sum_values = sum(list(dict_one.values()))\n",
    "print(sum_values)"
   ]
  },
  {
   "cell_type": "code",
   "execution_count": 31,
   "id": "a999ec60",
   "metadata": {},
   "outputs": [
    {
     "name": "stdout",
     "output_type": "stream",
     "text": [
      "100 400\n"
     ]
    }
   ],
   "source": [
    "print(min(list(dict_one.values())), max(list(dict_one.values())))"
   ]
  },
  {
   "cell_type": "markdown",
   "id": "c522bb6f",
   "metadata": {},
   "source": [
    "# Exercise 3"
   ]
  },
  {
   "cell_type": "code",
   "execution_count": 32,
   "id": "b6c6cb1a",
   "metadata": {},
   "outputs": [],
   "source": [
    "employees = [{\n",
    "  \"name\": \"Tina\",\n",
    "  \"age\": 30,\n",
    "  \"birthday\": \"1990-03-10\",\n",
    "  \"job\": \"DevOps Engineer\",\n",
    "  \"address\": {\n",
    "    \"city\": \"New York\",\n",
    "    \"country\": \"USA\"\n",
    "  }\n",
    "},\n",
    "{\n",
    "  \"name\": \"Tim\",\n",
    "  \"age\": 35,\n",
    "  \"birthday\": \"1985-02-21\",\n",
    "  \"job\": \"Developer\",\n",
    "  \"address\": {\n",
    "    \"city\": \"Sydney\",\n",
    "    \"country\": \"Australia\"\n",
    "  }\n",
    "}]"
   ]
  },
  {
   "cell_type": "code",
   "execution_count": 33,
   "id": "9d47ef3b",
   "metadata": {},
   "outputs": [],
   "source": [
    "#Write a Python Program that:\n",
    "\n",
    "#Prints out - the name, job and city of each employee using a loop. The program must work for any number of employees in the list, not just 2.\n",
    "#Prints the country of the second employee in the list by accessing it directly without the loop."
   ]
  },
  {
   "cell_type": "code",
   "execution_count": 34,
   "id": "1d8007bb",
   "metadata": {},
   "outputs": [
    {
     "name": "stdout",
     "output_type": "stream",
     "text": [
      "Tina DevOps Engineer New York\n",
      "Tim Developer Sydney\n"
     ]
    }
   ],
   "source": [
    "for key in employees:\n",
    "    \n",
    "    print(key[\"name\"], key[\"job\"], key[\"address\"][\"city\"])"
   ]
  },
  {
   "cell_type": "code",
   "execution_count": 36,
   "id": "45a15f68",
   "metadata": {},
   "outputs": [
    {
     "name": "stdout",
     "output_type": "stream",
     "text": [
      "Australia\n"
     ]
    }
   ],
   "source": [
    "print(employees[1][\"address\"][\"country\"])"
   ]
  },
  {
   "cell_type": "markdown",
   "id": "06a646ac",
   "metadata": {},
   "source": [
    "# Exercise 4"
   ]
  },
  {
   "cell_type": "code",
   "execution_count": 37,
   "id": "975b486b",
   "metadata": {},
   "outputs": [],
   "source": [
    "#Write a function that accepts a list of dictionaries with employee age (see example list from Exercise 3) and prints out the name and age of the youngest employee.\n",
    "#Write a function that accepts a string and calculates the number of upper case letters and lower case letters.\n",
    "#Write a function that prints the even numbers from a provided list.\n",
    "#For cleaner code, declare these functions in its own helper Module and use them in the main.py file"
   ]
  },
  {
   "cell_type": "code",
   "execution_count": 48,
   "id": "f0cf8cac",
   "metadata": {},
   "outputs": [
    {
     "name": "stdout",
     "output_type": "stream",
     "text": [
      "The youngest employee is Tina aged 30.\n"
     ]
    }
   ],
   "source": [
    "import sys\n",
    "\n",
    "def func1(employees):\n",
    "    \n",
    "    youngest = sys.maxsize\n",
    "    \n",
    "    for employee in employees:\n",
    "        \n",
    "        if employee[\"age\"] < youngest:\n",
    "            \n",
    "            youngest = employee[\"age\"]\n",
    "            youngest_employee = employee\n",
    "    \n",
    "    print(f\"The youngest employee is {youngest_employee['name']} aged {youngest_employee['age']}.\")\n",
    "\n",
    "func1(employees)"
   ]
  },
  {
   "cell_type": "code",
   "execution_count": 49,
   "id": "aee35ab4",
   "metadata": {},
   "outputs": [
    {
     "name": "stdout",
     "output_type": "stream",
     "text": [
      "Number of upper case: 3 and number of lower case: 14\n"
     ]
    }
   ],
   "source": [
    "def func2(text):\n",
    "    \n",
    "    upper_count = 0\n",
    "    lower_count = 0\n",
    "\n",
    "    for char in text:\n",
    "        \n",
    "        if char.isupper():\n",
    "            \n",
    "            upper_count += 1\n",
    "            \n",
    "        elif char.islower():\n",
    "            \n",
    "            lower_count += 1\n",
    "            \n",
    "    print(f\"Number of upper case: {upper_count} and number of lower case: {lower_count}\")\n",
    "\n",
    "func2(\"Techworld With Nana\")"
   ]
  },
  {
   "cell_type": "code",
   "execution_count": 50,
   "id": "e97c31a8",
   "metadata": {},
   "outputs": [
    {
     "name": "stdout",
     "output_type": "stream",
     "text": [
      "even number: 0\n",
      "even number: 2\n",
      "even number: 4\n",
      "even number: 6\n",
      "even number: 8\n",
      "even number: 10\n",
      "even number: 12\n",
      "even number: 14\n",
      "even number: 16\n",
      "even number: 18\n",
      "even number: 20\n",
      "even number: 22\n",
      "even number: 24\n",
      "even number: 26\n",
      "even number: 28\n"
     ]
    }
   ],
   "source": [
    "def func3(numbers):\n",
    "    \n",
    "    for number in numbers:\n",
    "        \n",
    "        if number % 2 == 0:\n",
    "            \n",
    "            print(f\"even number: {number}\")\n",
    "\n",
    "func3(list(range(30)))"
   ]
  },
  {
   "cell_type": "code",
   "execution_count": 51,
   "id": "633a333e",
   "metadata": {},
   "outputs": [],
   "source": [
    "# Create helper.py and add:\n",
    "\n",
    "import sys\n",
    "\n",
    "def func1(employees):\n",
    "    \n",
    "    youngest = sys.maxsize\n",
    "    \n",
    "    for employee in employees:\n",
    "        \n",
    "        if employee[\"age\"] < youngest:\n",
    "            \n",
    "            youngest = employee[\"age\"]\n",
    "            youngest_employee = employee\n",
    "    \n",
    "    print(f\"The youngest employee is {youngest_employee['name']} aged {youngest_employee['age']}.\")\n",
    "    \n",
    "def func2(text):\n",
    "    \n",
    "    upper_count = 0\n",
    "    lower_count = 0\n",
    "\n",
    "    for char in text:\n",
    "        \n",
    "        if char.isupper():\n",
    "            \n",
    "            upper_count += 1\n",
    "            \n",
    "        elif char.islower():\n",
    "            \n",
    "            lower_count += 1\n",
    "            \n",
    "    print(f\"Number of upper case: {upper_count} and number of lower case: {lower_count}\")\n",
    "\n",
    "def func3(numbers):\n",
    "    \n",
    "    for number in numbers:\n",
    "        \n",
    "        if number % 2 == 0:\n",
    "            \n",
    "            print(f\"even number: {number}\")\n"
   ]
  },
  {
   "cell_type": "code",
   "execution_count": null,
   "id": "4857cd8f",
   "metadata": {},
   "outputs": [],
   "source": [
    "# And main.py would have:\n",
    "\n",
    "from helper import func1, func2, func3\n",
    "\n",
    "func1(employees)\n",
    "func2(\"Techworld With Nana\")\n",
    "func3(list(range(30)))"
   ]
  },
  {
   "cell_type": "markdown",
   "id": "81c89c86",
   "metadata": {},
   "source": [
    "# Exercise 5"
   ]
  },
  {
   "cell_type": "code",
   "execution_count": null,
   "id": "309ed32c",
   "metadata": {},
   "outputs": [],
   "source": [
    "#Write a simple calculator program that:\n",
    "\n",
    "#takes user input of 2 numbers and operation to execute\n",
    "#handles the following operations: plus, minus, multiply, divide\n",
    "#does proper user validation and give feedback: only numbers allowed\n",
    "#Keeps the Calculator program running until the user types “exit”\n",
    "#Keeps track of how many calculations the user has taken, and when the user exits the calculator program, prints out the number of calculations the user did"
   ]
  },
  {
   "cell_type": "code",
   "execution_count": null,
   "id": "e8011d49",
   "metadata": {},
   "outputs": [],
   "source": [
    "def run():\n",
    "    \n",
    "    calculations = 0\n",
    "    \n",
    "    while True:\n",
    "\n",
    "        operation = input(\"enter the operation: plus, minus, multiply, divide (press exit to quit)\")\n",
    "        \n",
    "        if operation == 'exit':\n",
    "            \n",
    "            break\n",
    "            \n",
    "        if operation not in [\"plus\", \"minus\", \"multiply\", \"divide\"]:\n",
    "            \n",
    "            print(\"operation not valid. try again.\")\n",
    "            \n",
    "            break\n",
    "        \n",
    "        try:\n",
    "            \n",
    "            num1 = float(input(\"Enter the first number: \"))\n",
    "            num2 = float(input(\"Enter the second number: \"))\n",
    "            \n",
    "        except ValueError:\n",
    "            \n",
    "            print(\"Not a valid number\")\n",
    "            \n",
    "            continue\n",
    "        \n",
    "        if operation == 'plus':\n",
    "            \n",
    "            result = num1 + num2\n",
    "            \n",
    "        elif operation == 'minus':\n",
    "            \n",
    "            result = num1 - num2\n",
    "            \n",
    "        elif operation == 'multiply':\n",
    "            \n",
    "            result = num1 * num2\n",
    "            \n",
    "        elif operation == 'divide':\n",
    "            \n",
    "            if num2 == 0:\n",
    "                \n",
    "                print(\"Cannot divide by zero.\")\n",
    "                \n",
    "                continue\n",
    "                \n",
    "            result = num1 / num2\n",
    "        \n",
    "        print(\"operation result: \", result)\n",
    "        \n",
    "        calculations += 1\n",
    "    \n",
    "    print(\"Number of calculations: \", calculations)\n",
    "\n",
    "run()"
   ]
  },
  {
   "cell_type": "markdown",
   "id": "cc895486",
   "metadata": {},
   "source": [
    "# Exercise 6"
   ]
  },
  {
   "cell_type": "code",
   "execution_count": null,
   "id": "4d05f22b",
   "metadata": {},
   "outputs": [],
   "source": [
    "#Write a program that:\n",
    "\n",
    "#runs until the user guesses a number (hint: while loop)\n",
    "#generates a random number between 1 and 9 (including 1 and 9)\n",
    "#asks the user to guess the number\n",
    "#then prints a message to the user, whether they guessed too low, too high\n",
    "#if the user guesses the number right, print out YOU WON! and exit the program\n",
    "#Hint: Use the built-in random module to generate random numbers https://docs.python.org/3/library/random.html\n",
    "\n",
    "#Concepts covered: Built-In Module, User Input, Comparison Operator, While loop"
   ]
  },
  {
   "cell_type": "code",
   "execution_count": 55,
   "id": "01c2cff3",
   "metadata": {},
   "outputs": [],
   "source": [
    "import random"
   ]
  },
  {
   "cell_type": "code",
   "execution_count": 58,
   "id": "f0ee10bb",
   "metadata": {},
   "outputs": [
    {
     "name": "stdout",
     "output_type": "stream",
     "text": [
      "6\n",
      "Write a number between 1 and 9:02384923894238\n",
      "Too high!\n",
      "Write a number between 1 and 9:x\n",
      "Not a valid number\n",
      "Write a number between 1 and 9:5\n",
      "Too low!\n",
      "Write a number between 1 and 9:7\n",
      "Too high!\n",
      "Write a number between 1 and 9:6\n",
      "YOU WON!\n"
     ]
    }
   ],
   "source": [
    "def guess_num():\n",
    "    \n",
    "    num = random.randint(1, 9)\n",
    "    \n",
    "    guess = True\n",
    "    \n",
    "    while guess:\n",
    "        \n",
    "        try:\n",
    "            \n",
    "            num_user = int(input(\"Write a number between 1 and 9:\"))\n",
    "            \n",
    "        except ValueError:\n",
    "            \n",
    "            print(\"Not a valid number\")\n",
    "            \n",
    "            continue\n",
    "        \n",
    "        if num_user < num:\n",
    "            \n",
    "            print(\"Too low\")\n",
    "            \n",
    "        elif num_user > num:\n",
    "            \n",
    "            print(\"Too high\")\n",
    "            \n",
    "        else:\n",
    "            \n",
    "            print(\"YOU WON!\")\n",
    "            guess = False\n",
    "            break\n",
    "\n",
    "guess_num()"
   ]
  },
  {
   "cell_type": "markdown",
   "id": "270df75b",
   "metadata": {},
   "source": [
    "# Exercise 7\n",
    "\n",
    "Imagine you are working in a university and need to write a program, which handles data of students, professors and lectures. To work with this data you create classes and objects:\n",
    "\n",
    "a) Create a Student class\n",
    "\n",
    "with properties:\n",
    "\n",
    "first name\n",
    "last name\n",
    "age\n",
    "lectures they attend\n",
    "with methods:\n",
    "\n",
    "can print the full name\n",
    "can list the lectures, which the student attends\n",
    "can add new lectures to the lectures list (attend a new lecture)\n",
    "can remove lectures from the lectures list (leave a lecture)\n",
    "b) Create a Professor class\n",
    "\n",
    "with properties:\n",
    "\n",
    "first name\n",
    "last name\n",
    "age\n",
    "subjects they teach\n",
    "with methods:\n",
    "\n",
    "can print the full name\n",
    "can list the subjects they teach\n",
    "can add new subjects to the list\n",
    "can remove subjects from the list\n",
    "c) Create a Lecture class\n",
    "\n",
    "with properties:\n",
    "\n",
    "name\n",
    "max number of students\n",
    "duration\n",
    "list of professors giving this lecture\n",
    "with methods:\n",
    "\n",
    "printing the name and duration of the lecture\n",
    "adding professors to the list of professors giving this lecture\n",
    "d) Bonus task\n",
    "\n",
    "As both students and professors have a first name, last name and age, you think of a cleaner solution:\n",
    "\n",
    "Inheritance allows us to define a class that inherits all the methods and properties from another class.\n",
    "\n",
    "Create a Person class, which is the parent class of Student and Professor classes\n",
    "This Person class has the following properties: \"first_name\", \"last_name\" and \"age\"\n",
    "and following method: \"print_name\", which can print the full name\n",
    "So you don't need the properties and the method in the other two classes. You can easily inherit these.\n",
    "Change Student and Professor classes to inherit \"first_name\", \"last_name\", \"age\" properties and \"print_name\" method from the Person class"
   ]
  },
  {
   "cell_type": "code",
   "execution_count": 59,
   "id": "c6a9c43b",
   "metadata": {},
   "outputs": [],
   "source": [
    "class Person:\n",
    "    \n",
    "    def __init__(self, first_name, last_name, age):\n",
    "        \n",
    "        self.first_name = first_name\n",
    "        self.last_name = last_name\n",
    "        self.age = age\n",
    "\n",
    "    def print_name(self):\n",
    "        \n",
    "        print(f\"first name: {self.first_name} last name: {self.last_name}\")"
   ]
  },
  {
   "cell_type": "code",
   "execution_count": 65,
   "id": "c7a3eba4",
   "metadata": {},
   "outputs": [],
   "source": [
    "class Student(Person):\n",
    "    \n",
    "    def __init__(self, first_name, last_name, age):\n",
    "        \n",
    "        super().__init__(first_name, last_name, age)\n",
    "        \n",
    "        self.lectures = []\n",
    "\n",
    "    def list_lectures(self):\n",
    "        \n",
    "        self.print_name()\n",
    "        \n",
    "        print(\"attends lectures: \")\n",
    "        \n",
    "        for lecture in self.lectures:\n",
    "            \n",
    "            print(lecture)\n",
    "\n",
    "    def add_lecture(self, lecture):\n",
    "        \n",
    "        self.lectures.append(lecture)\n",
    "\n",
    "    def remove_lecture(self, lecture):\n",
    "        \n",
    "        try:\n",
    "        \n",
    "            self.lectures.remove(lecture)\n",
    "            \n",
    "        except:\n",
    "            \n",
    "            pass"
   ]
  },
  {
   "cell_type": "code",
   "execution_count": 66,
   "id": "96508afb",
   "metadata": {},
   "outputs": [],
   "source": [
    "class Professor(Person):\n",
    "    \n",
    "    def __init__(self, first_name, last_name, age):\n",
    "        \n",
    "        super().__init__(first_name, last_name, age)\n",
    "        \n",
    "        self.subjects = []\n",
    "\n",
    "    def list_subjects(self):\n",
    "        \n",
    "        self.print_name()\n",
    "        \n",
    "        print(\"teaches subjects: \")\n",
    "\n",
    "        for subject in self.subjects:\n",
    "            \n",
    "            print(subject)\n",
    "\n",
    "    def add_subject(self, subject):\n",
    "        \n",
    "        self.subjects.append(subject)\n",
    "\n",
    "    def remove_subject(self, subject):\n",
    "        \n",
    "        try:\n",
    "        \n",
    "            self.subjects.remove(lecture)\n",
    "            \n",
    "        except:\n",
    "            \n",
    "            pass"
   ]
  },
  {
   "cell_type": "code",
   "execution_count": 67,
   "id": "37d0b58b",
   "metadata": {},
   "outputs": [],
   "source": [
    "class Lecture:\n",
    "    \n",
    "    def __init__(self, name, max_num_students, duration):\n",
    "        \n",
    "        self.name = name\n",
    "        self.max_num_students = max_num_students\n",
    "        self.duration = duration\n",
    "        self.professors = []\n",
    "\n",
    "    def print_info(self):\n",
    "        \n",
    "        print(f\"lecture: {self.name} duration: {self.duration} h\")\n",
    "\n",
    "    def add_professor(self, professor):\n",
    "        \n",
    "        self.professors.append(professor)"
   ]
  },
  {
   "cell_type": "markdown",
   "id": "5ece0a84",
   "metadata": {},
   "source": [
    "# Exercise 8\n",
    "\n",
    "Write a program that:\n",
    "\n",
    "accepts user's birthday as input\n",
    "\n",
    "and calculates how many days, hours and minutes are remaining till the birthday\n",
    "\n",
    "prints out the result as a message to the user"
   ]
  },
  {
   "cell_type": "code",
   "execution_count": 69,
   "id": "84eeeb4e",
   "metadata": {},
   "outputs": [],
   "source": [
    "from datetime import datetime"
   ]
  },
  {
   "cell_type": "code",
   "execution_count": 77,
   "id": "c8ebb14a",
   "metadata": {},
   "outputs": [
    {
     "name": "stdout",
     "output_type": "stream",
     "text": [
      "Enter your birthday (example - 20/09/2000): 04/12/1991\n"
     ]
    }
   ],
   "source": [
    "birthday_string = input(\"Enter your birthday (example - 20/09/2000): \")\n",
    "\n",
    "birthday_date = datetime.strptime(birthday_string, '%d/%m/%Y').date()\n",
    "today = datetime.today()\n",
    "\n",
    "difference_one = datetime(today.year, birthday_date.month, birthday_date.day)\n",
    "difference_two = datetime(today.year + 1, birthday_date.month, birthday_date.day)\n",
    "\n",
    "days_till_birthday = 0\n",
    "\n",
    "if difference_one > today:\n",
    "    \n",
    "\n",
    "    days_till_birthday = difference_one - today\n",
    "    \n",
    "else:\n",
    "\n",
    "    days_till_birthday = difference_two - today   \n",
    "\n",
    "print(f\"{days_till_birthday.days} days till your birthday\")"
   ]
  },
  {
   "cell_type": "markdown",
   "id": "7ba25e9c",
   "metadata": {},
   "source": [
    "# Exercise 9"
   ]
  },
  {
   "cell_type": "code",
   "execution_count": null,
   "id": "f97c3717",
   "metadata": {},
   "outputs": [],
   "source": [
    "import openpyxl\n",
    "from operator import itemgetter\n",
    "\n",
    "empl_file = openpyxl.load_workbook(\"employees.xlsx\")\n",
    "empl_list = empl_file[\"Sheet1\"]\n",
    "\n",
    "empl_list.delete_cols(3,4)\n",
    "\n",
    "employees_by_experience = []\n",
    "\n",
    "for empl_row in range(2, empl_list.max_row + 1):\n",
    "    \n",
    "    empl_name = empl_list.cell(empl_row, 1).value\n",
    "    empl_experience = empl_list.cell(empl_row, 2).value\n",
    "\n",
    "    employees_by_experience.append({ \n",
    "        \"name\":  empl_name, \n",
    "        \"experience\": int(empl_experience)\n",
    "    })\n",
    "\n",
    "new_list = sorted(employees_by_experience, key=itemgetter(\"experience\"), reverse=True)\n",
    "\n",
    "\n",
    "for empl_row in range(2, empl_list.max_row + 1):\n",
    "    \n",
    "    empl_name = empl_list.cell(empl_row, 1)\n",
    "    empl_experience = empl_list.cell(empl_row, 2)\n",
    "\n",
    "    index = empl_row - 2\n",
    "    employee = new_list[index]\n",
    "\n",
    "    empl_name.value = employee[\"name\"]\n",
    "    empl_experience.value = employee[\"experience\"]\n",
    "\n",
    "empl_file.save(\"employees_sorted.xlsx\")"
   ]
  },
  {
   "cell_type": "markdown",
   "id": "1fe653f2",
   "metadata": {},
   "source": [
    "# Exericse 10"
   ]
  },
  {
   "cell_type": "code",
   "execution_count": 79,
   "id": "89440263",
   "metadata": {},
   "outputs": [
    {
     "name": "stdout",
     "output_type": "stream",
     "text": [
      "Project Name: debruits\n",
      "Project Url: https://github.com/fabiocuri/debruits\n",
      "\n",
      "Project Name: debruits-audio\n",
      "Project Url: https://github.com/fabiocuri/debruits-audio\n",
      "\n",
      "Project Name: devops-exercises\n",
      "Project Url: https://github.com/fabiocuri/devops-exercises\n",
      "\n",
      "Project Name: devops-funcs\n",
      "Project Url: https://github.com/fabiocuri/devops-funcs\n",
      "\n",
      "Project Name: extri\n",
      "Project Url: https://github.com/fabiocuri/extri\n",
      "\n",
      "Project Name: jenkins-shared-library\n",
      "Project Url: https://github.com/fabiocuri/jenkins-shared-library\n",
      "\n",
      "Project Name: WALS\n",
      "Project Url: https://github.com/fabiocuri/WALS\n",
      "\n"
     ]
    }
   ],
   "source": [
    "import requests\n",
    "\n",
    "user = \"fabiocuri\"\n",
    "response = requests.get(f\"https://api.github.com/users/{user}/repos\")\n",
    "my_projects = response.json()\n",
    "\n",
    "# print just the names and urls\n",
    "for project in my_projects:\n",
    "    print(f\"Project Name: {project['name']}\\nProject Url: {project['html_url']}\\n\")\n"
   ]
  },
  {
   "cell_type": "code",
   "execution_count": null,
   "id": "dcbdf1f4",
   "metadata": {},
   "outputs": [],
   "source": []
  }
 ],
 "metadata": {
  "kernelspec": {
   "display_name": "Python 3 (ipykernel)",
   "language": "python",
   "name": "python3"
  },
  "language_info": {
   "codemirror_mode": {
    "name": "ipython",
    "version": 3
   },
   "file_extension": ".py",
   "mimetype": "text/x-python",
   "name": "python",
   "nbconvert_exporter": "python",
   "pygments_lexer": "ipython3",
   "version": "3.11.9"
  }
 },
 "nbformat": 4,
 "nbformat_minor": 5
}
